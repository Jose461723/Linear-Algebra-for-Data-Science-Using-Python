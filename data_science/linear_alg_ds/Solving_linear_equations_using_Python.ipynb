{
 "cells": [
  {
   "cell_type": "markdown",
   "id": "28341a62",
   "metadata": {},
   "source": [
    "Importing libraries "
   ]
  },
  {
   "cell_type": "code",
   "execution_count": 1,
   "id": "bf1879b2",
   "metadata": {},
   "outputs": [],
   "source": [
    "import numpy as np\n",
    "from IPython.display import display,Latex\n",
    "import sympy as sy"
   ]
  },
  {
   "cell_type": "markdown",
   "id": "35987b43",
   "metadata": {},
   "source": [
    "Given the following system of linear equations (I)\n",
    "4x + 3y + 2z = 25\n",
    "-2x + 2y + 3z = -10\n",
    "3x - 5y + 2z = -4"
   ]
  },
  {
   "cell_type": "markdown",
   "id": "086ecc69",
   "metadata": {},
   "source": [
    "Solve Linear Equation Using Inverse Method"
   ]
  },
  {
   "cell_type": "code",
   "execution_count": 4,
   "id": "37d58e17",
   "metadata": {},
   "outputs": [
    {
     "data": {
      "text/plain": [
       "array([[ 4,  3,  2],\n",
       "       [-2,  2,  3],\n",
       "       [ 3, -5,  2]])"
      ]
     },
     "execution_count": 4,
     "metadata": {},
     "output_type": "execute_result"
    }
   ],
   "source": [
    "#Let\n",
    "M = np.array([[4,3,2], [-2,2,3], [3, -5, 2]]) #Is the coefficients matrix \n",
    "M"
   ]
  },
  {
   "cell_type": "code",
   "execution_count": 6,
   "id": "b34a7ea0",
   "metadata": {},
   "outputs": [
    {
     "data": {
      "text/plain": [
       "array([[ 25],\n",
       "       [-10],\n",
       "       [ -4]])"
      ]
     },
     "execution_count": 6,
     "metadata": {},
     "output_type": "execute_result"
    }
   ],
   "source": [
    "#,\n",
    "K = np.array([[25],[-10],[-4]]) #The column matrix\n",
    "K"
   ]
  },
  {
   "cell_type": "code",
   "execution_count": 8,
   "id": "928db3ed",
   "metadata": {},
   "outputs": [
    {
     "data": {
      "text/plain": [
       "array([['x'],\n",
       "       ['y'],\n",
       "       ['z']], dtype='<U1')"
      ]
     },
     "execution_count": 8,
     "metadata": {},
     "output_type": "execute_result"
    }
   ],
   "source": [
    "#and\n",
    "V = np.array([['x'],['y'],['z']])\n",
    "V"
   ]
  },
  {
   "cell_type": "markdown",
   "id": "fe9889d3",
   "metadata": {},
   "source": [
    "Equation can be written as \n",
    "\n",
    "$M * V = K\\\\\n",
    "so,\\\\\n",
    "V = Invese of M times K$\n",
    "\n"
   ]
  },
  {
   "cell_type": "markdown",
   "id": "7db2cbd8",
   "metadata": {},
   "source": [
    "Solve linear equation using inverse method"
   ]
  },
  {
   "cell_type": "code",
   "execution_count": 9,
   "id": "038ce349",
   "metadata": {},
   "outputs": [
    {
     "data": {
      "text/plain": [
       "array([[ 5.],\n",
       "       [ 3.],\n",
       "       [-2.]])"
      ]
     },
     "execution_count": 9,
     "metadata": {},
     "output_type": "execute_result"
    }
   ],
   "source": [
    "V = np.linalg.inv(M).dot(K)\n",
    "V"
   ]
  },
  {
   "cell_type": "markdown",
   "id": "c73d21c3",
   "metadata": {},
   "source": [
    "#That is, \n",
    "$x=5\\\\\n",
    "y=3\\\\\n",
    "z=-2$"
   ]
  },
  {
   "cell_type": "markdown",
   "id": "fb8b76c8",
   "metadata": {},
   "source": [
    "Solve Linear Equation Using Reduced Row Echelon Form"
   ]
  },
  {
   "cell_type": "code",
   "execution_count": 10,
   "id": "f9725333",
   "metadata": {},
   "outputs": [],
   "source": [
    "from sympy import *\n",
    "#The augmented Matrix is\n",
    "A = Matrix([[4,3,2,25],[-2,2,3,-10], [3,-5,2,-4]])"
   ]
  },
  {
   "cell_type": "code",
   "execution_count": 11,
   "id": "27491e5c",
   "metadata": {},
   "outputs": [
    {
     "data": {
      "text/latex": [
       "$\\displaystyle \\left[\\begin{matrix}4 & 3 & 2 & 25\\\\-2 & 2 & 3 & -10\\\\3 & -5 & 2 & -4\\end{matrix}\\right]$"
      ],
      "text/plain": [
       "Matrix([\n",
       "[ 4,  3, 2,  25],\n",
       "[-2,  2, 3, -10],\n",
       "[ 3, -5, 2,  -4]])"
      ]
     },
     "execution_count": 11,
     "metadata": {},
     "output_type": "execute_result"
    }
   ],
   "source": [
    "A"
   ]
  },
  {
   "cell_type": "code",
   "execution_count": 12,
   "id": "6b970423",
   "metadata": {},
   "outputs": [
    {
     "data": {
      "text/plain": [
       "array([[ 4,  3,  2],\n",
       "       [-2,  2,  3],\n",
       "       [ 3, -5,  2]])"
      ]
     },
     "execution_count": 12,
     "metadata": {},
     "output_type": "execute_result"
    }
   ],
   "source": [
    "M"
   ]
  },
  {
   "cell_type": "code",
   "execution_count": 13,
   "id": "fae3ffff",
   "metadata": {},
   "outputs": [
    {
     "data": {
      "text/plain": [
       "array([[ 25],\n",
       "       [-10],\n",
       "       [ -4]])"
      ]
     },
     "execution_count": 13,
     "metadata": {},
     "output_type": "execute_result"
    }
   ],
   "source": [
    "K"
   ]
  },
  {
   "cell_type": "code",
   "execution_count": 16,
   "id": "cfef3463",
   "metadata": {},
   "outputs": [
    {
     "data": {
      "text/latex": [
       "$\\displaystyle \\left[\\begin{matrix}1 & 0 & 0 & 5\\\\0 & 1 & 0 & 3\\\\0 & 0 & 1 & -2\\end{matrix}\\right]$"
      ],
      "text/plain": [
       "Matrix([\n",
       "[1, 0, 0,  5],\n",
       "[0, 1, 0,  3],\n",
       "[0, 0, 1, -2]])"
      ]
     },
     "execution_count": 16,
     "metadata": {},
     "output_type": "execute_result"
    }
   ],
   "source": [
    "Matrix([[4,3,2,25],[-2,2,3,-10], [3,-5,2,-4]]).rref(pivots=False)"
   ]
  },
  {
   "cell_type": "markdown",
   "id": "0b3e3c68",
   "metadata": {},
   "source": [
    "#Hence\n",
    "$x=5\\\\\n",
    "y=3\\\\\n",
    "z=-2$"
   ]
  },
  {
   "cell_type": "markdown",
   "id": "039a835e",
   "metadata": {},
   "source": [
    "Solve Linear Equation Using la.solve{} method"
   ]
  },
  {
   "cell_type": "code",
   "execution_count": 18,
   "id": "405f1e9c",
   "metadata": {},
   "outputs": [
    {
     "data": {
      "text/plain": [
       "array([[ 5.],\n",
       "       [ 3.],\n",
       "       [-2.]])"
      ]
     },
     "execution_count": 18,
     "metadata": {},
     "output_type": "execute_result"
    }
   ],
   "source": [
    "Sol = np.linalg.solve(M,K)\n",
    "Sol"
   ]
  }
 ],
 "metadata": {
  "kernelspec": {
   "display_name": "Python 3 (ipykernel)",
   "language": "python",
   "name": "python3"
  },
  "language_info": {
   "codemirror_mode": {
    "name": "ipython",
    "version": 3
   },
   "file_extension": ".py",
   "mimetype": "text/x-python",
   "name": "python",
   "nbconvert_exporter": "python",
   "pygments_lexer": "ipython3",
   "version": "3.11.5"
  }
 },
 "nbformat": 4,
 "nbformat_minor": 5
}
