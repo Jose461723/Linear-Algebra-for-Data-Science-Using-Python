{
 "cells": [
  {
   "cell_type": "markdown",
   "id": "00a3b2bc",
   "metadata": {},
   "source": [
    "# Using matrix algebra in python"
   ]
  },
  {
   "cell_type": "code",
   "execution_count": null,
   "id": "cb21784b",
   "metadata": {},
   "outputs": [],
   "source": []
  },
  {
   "cell_type": "code",
   "execution_count": 3,
   "id": "64976f7a",
   "metadata": {},
   "outputs": [],
   "source": [
    "import numpy as np\n",
    "import random"
   ]
  },
  {
   "cell_type": "markdown",
   "id": "125b16cb",
   "metadata": {},
   "source": [
    "### Multiplying matrices "
   ]
  },
  {
   "cell_type": "code",
   "execution_count": 4,
   "id": "8514ede6",
   "metadata": {},
   "outputs": [
    {
     "data": {
      "text/plain": [
       "array([-8., -6., -4., -2.,  0.,  2.,  4.,  6.,  8.])"
      ]
     },
     "execution_count": 4,
     "metadata": {},
     "output_type": "execute_result"
    }
   ],
   "source": [
    "L = np.linspace(-8,8,9)\n",
    "L"
   ]
  },
  {
   "cell_type": "code",
   "execution_count": 5,
   "id": "98629d7f",
   "metadata": {},
   "outputs": [
    {
     "data": {
      "text/plain": [
       "array([[-8., -6., -4.],\n",
       "       [-2.,  0.,  2.],\n",
       "       [ 4.,  6.,  8.]])"
      ]
     },
     "execution_count": 5,
     "metadata": {},
     "output_type": "execute_result"
    }
   ],
   "source": [
    "M = L.reshape(3,3)\n",
    "M"
   ]
  },
  {
   "cell_type": "code",
   "execution_count": 6,
   "id": "cc199616",
   "metadata": {},
   "outputs": [
    {
     "data": {
      "text/plain": [
       "array([[-1,  0,  6],\n",
       "       [-6, -1, -7],\n",
       "       [-6,  6, -3]])"
      ]
     },
     "execution_count": 6,
     "metadata": {},
     "output_type": "execute_result"
    }
   ],
   "source": [
    "N = np.random.randint(-8,8, size=(3,3))\n",
    "N"
   ]
  },
  {
   "cell_type": "code",
   "execution_count": 7,
   "id": "c2c04ddf",
   "metadata": {},
   "outputs": [],
   "source": [
    "# Using matmul method"
   ]
  },
  {
   "cell_type": "code",
   "execution_count": 8,
   "id": "08005658",
   "metadata": {},
   "outputs": [
    {
     "data": {
      "text/plain": [
       "array([[ 68., -18.,   6.],\n",
       "       [-10.,  12., -18.],\n",
       "       [-88.,  42., -42.]])"
      ]
     },
     "execution_count": 8,
     "metadata": {},
     "output_type": "execute_result"
    }
   ],
   "source": [
    "np.matmul(M,N)"
   ]
  },
  {
   "cell_type": "markdown",
   "id": "99ae7139",
   "metadata": {},
   "source": [
    "### Using the dot method "
   ]
  },
  {
   "cell_type": "code",
   "execution_count": 9,
   "id": "4806af27",
   "metadata": {},
   "outputs": [
    {
     "data": {
      "text/plain": [
       "array([[ 68., -18.,   6.],\n",
       "       [-10.,  12., -18.],\n",
       "       [-88.,  42., -42.]])"
      ]
     },
     "execution_count": 9,
     "metadata": {},
     "output_type": "execute_result"
    }
   ],
   "source": [
    "M.dot(N)"
   ]
  },
  {
   "cell_type": "code",
   "execution_count": 10,
   "id": "f8a0710a",
   "metadata": {},
   "outputs": [
    {
     "data": {
      "text/plain": [
       "array([[ 68., -18.,   6.],\n",
       "       [-10.,  12., -18.],\n",
       "       [-88.,  42., -42.]])"
      ]
     },
     "execution_count": 10,
     "metadata": {},
     "output_type": "execute_result"
    }
   ],
   "source": [
    "###Using the @\n",
    "M@N"
   ]
  },
  {
   "cell_type": "code",
   "execution_count": 12,
   "id": "7e73976b",
   "metadata": {},
   "outputs": [],
   "source": [
    "A = np.array([[1,2,3],[4,5,6]])"
   ]
  },
  {
   "cell_type": "code",
   "execution_count": 15,
   "id": "b5cf3d8d",
   "metadata": {},
   "outputs": [],
   "source": [
    "B = np.array([[7,2,-3],[0,1,6]])"
   ]
  },
  {
   "cell_type": "code",
   "execution_count": 20,
   "id": "26739a25",
   "metadata": {},
   "outputs": [
    {
     "data": {
      "text/plain": [
       "array([[1, 2, 3],\n",
       "       [4, 5, 6]])"
      ]
     },
     "execution_count": 20,
     "metadata": {},
     "output_type": "execute_result"
    }
   ],
   "source": [
    "A\n"
   ]
  },
  {
   "cell_type": "code",
   "execution_count": 21,
   "id": "986ec863",
   "metadata": {},
   "outputs": [
    {
     "data": {
      "text/plain": [
       "array([[ 7,  2, -3],\n",
       "       [ 0,  1,  6]])"
      ]
     },
     "execution_count": 21,
     "metadata": {},
     "output_type": "execute_result"
    }
   ],
   "source": [
    "B"
   ]
  },
  {
   "cell_type": "code",
   "execution_count": 22,
   "id": "ad62b347",
   "metadata": {},
   "outputs": [
    {
     "data": {
      "text/plain": [
       "array([[ 2, 20],\n",
       "       [20, 41]])"
      ]
     },
     "execution_count": 22,
     "metadata": {},
     "output_type": "execute_result"
    }
   ],
   "source": [
    "A.dot(B.T)"
   ]
  }
 ],
 "metadata": {
  "kernelspec": {
   "display_name": "Python 3 (ipykernel)",
   "language": "python",
   "name": "python3"
  },
  "language_info": {
   "codemirror_mode": {
    "name": "ipython",
    "version": 3
   },
   "file_extension": ".py",
   "mimetype": "text/x-python",
   "name": "python",
   "nbconvert_exporter": "python",
   "pygments_lexer": "ipython3",
   "version": "3.11.5"
  }
 },
 "nbformat": 4,
 "nbformat_minor": 5
}
