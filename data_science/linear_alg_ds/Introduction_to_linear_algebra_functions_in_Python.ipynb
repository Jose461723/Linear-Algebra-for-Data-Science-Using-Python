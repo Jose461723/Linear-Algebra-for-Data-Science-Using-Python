{
 "cells": [
  {
   "cell_type": "code",
   "execution_count": 2,
   "id": "ce739f77",
   "metadata": {},
   "outputs": [],
   "source": [
    "import numpy as np\n",
    "import random\n",
    "#from numpy.linalg import multi_dot"
   ]
  },
  {
   "cell_type": "code",
   "execution_count": 3,
   "id": "58e27a40",
   "metadata": {},
   "outputs": [],
   "source": [
    "#Given the following matrices and vectors \n",
    "M = np.linspace(-8,8,9).reshape(3,3)\n",
    "N = np.random.randint(-8,8, size=(3,3))\n",
    "O = 2*N\n",
    "v1 = np.array([1,3,5,7])\n",
    "v2 = np.array([2,4,6,8])\n",
    "v3 = np.array([-2,5,1,3])"
   ]
  },
  {
   "cell_type": "markdown",
   "id": "e7db9616",
   "metadata": {},
   "source": [
    "The dot() function does the product of either two matrices, or two vectors."
   ]
  },
  {
   "cell_type": "code",
   "execution_count": 4,
   "id": "cf227965",
   "metadata": {},
   "outputs": [
    {
     "data": {
      "text/plain": [
       "array([[-16., -24., -32.],\n",
       "       [-44., -48., -52.],\n",
       "       [ 44.,  36.,  28.]])"
      ]
     },
     "execution_count": 4,
     "metadata": {},
     "output_type": "execute_result"
    }
   ],
   "source": [
    "N.dot(M)"
   ]
  },
  {
   "cell_type": "code",
   "execution_count": 5,
   "id": "cdfd27b0",
   "metadata": {},
   "outputs": [
    {
     "data": {
      "text/plain": [
       "100"
      ]
     },
     "execution_count": 5,
     "metadata": {},
     "output_type": "execute_result"
    }
   ],
   "source": [
    "v1.dot(v2)"
   ]
  },
  {
   "cell_type": "markdown",
   "id": "4db9b947",
   "metadata": {},
   "source": [
    "The multidot() function returns the product of two or several matrices."
   ]
  },
  {
   "cell_type": "code",
   "execution_count": 6,
   "id": "fbb73926",
   "metadata": {},
   "outputs": [
    {
     "data": {
      "text/plain": [
       "array([[ 320., -304., -224.],\n",
       "       [-112.,  -64.,  160.],\n",
       "       [-544.,  176.,  544.]])"
      ]
     },
     "execution_count": 6,
     "metadata": {},
     "output_type": "execute_result"
    }
   ],
   "source": [
    "np.linalg.multi_dot([M,N,O])"
   ]
  },
  {
   "cell_type": "markdown",
   "id": "58360580",
   "metadata": {},
   "source": [
    "The vdot() function returns the product of two vectors. It does not perform a matrix multiplication. It should only be used for vectors. "
   ]
  },
  {
   "cell_type": "code",
   "execution_count": 7,
   "id": "e1fa2248",
   "metadata": {},
   "outputs": [
    {
     "data": {
      "text/plain": [
       "100"
      ]
     },
     "execution_count": 7,
     "metadata": {},
     "output_type": "execute_result"
    }
   ],
   "source": [
    "np.vdot(v1,v2)"
   ]
  },
  {
   "cell_type": "markdown",
   "id": "ba2d5446",
   "metadata": {},
   "source": [
    "The inner() function returns the inner product of two arrays."
   ]
  },
  {
   "cell_type": "code",
   "execution_count": 8,
   "id": "44364d11",
   "metadata": {},
   "outputs": [
    {
     "data": {
      "text/plain": [
       "39"
      ]
     },
     "execution_count": 8,
     "metadata": {},
     "output_type": "execute_result"
    }
   ],
   "source": [
    "np.inner(v3,v1)"
   ]
  },
  {
   "cell_type": "markdown",
   "id": "7efc8a33",
   "metadata": {},
   "source": [
    "The mamut() function returns the product of two matrices."
   ]
  },
  {
   "cell_type": "code",
   "execution_count": 9,
   "id": "8c3e63b9",
   "metadata": {},
   "outputs": [
    {
     "data": {
      "text/plain": [
       "array([[-32.,  68.,  24.],\n",
       "       [ -8.,  -4.,  12.],\n",
       "       [ 16., -76.,   0.]])"
      ]
     },
     "execution_count": 9,
     "metadata": {},
     "output_type": "execute_result"
    }
   ],
   "source": [
    "np.matmul(M, N)"
   ]
  },
  {
   "cell_type": "markdown",
   "id": "9c680606",
   "metadata": {},
   "source": [
    "The linalg.matrix_power(M,n) raises the square matrix M to the power of n."
   ]
  },
  {
   "cell_type": "code",
   "execution_count": 10,
   "id": "0e862d7d",
   "metadata": {},
   "outputs": [
    {
     "data": {
      "text/plain": [
       "array([[-576., -432., -288.],\n",
       "       [-144.,    0.,  144.],\n",
       "       [ 288.,  432.,  576.]])"
      ]
     },
     "execution_count": 10,
     "metadata": {},
     "output_type": "execute_result"
    }
   ],
   "source": [
    "np.linalg.matrix_power(M,3)"
   ]
  },
  {
   "cell_type": "markdown",
   "id": "4d5e320d",
   "metadata": {},
   "source": [
    "The linalg.eig(O) returns both the eigenvalues and eigenvectors of the matrix O."
   ]
  },
  {
   "cell_type": "code",
   "execution_count": 14,
   "id": "bfaf0901",
   "metadata": {},
   "outputs": [],
   "source": [
    "eig_vals, eig_vects = np.linalg.eig(O)"
   ]
  },
  {
   "cell_type": "code",
   "execution_count": 15,
   "id": "74265643",
   "metadata": {},
   "outputs": [
    {
     "data": {
      "text/plain": [
       "array([13.69630739+0.j        , -2.84815369+2.43030811j,\n",
       "       -2.84815369-2.43030811j])"
      ]
     },
     "execution_count": 15,
     "metadata": {},
     "output_type": "execute_result"
    }
   ],
   "source": [
    "eig_vals"
   ]
  },
  {
   "cell_type": "code",
   "execution_count": 16,
   "id": "a590d1bf",
   "metadata": {},
   "outputs": [
    {
     "data": {
      "text/plain": [
       "array([[-0.02610595+0.j        , -0.7077205 +0.j        ,\n",
       "        -0.7077205 -0.j        ],\n",
       "       [-0.42156885+0.j        , -0.30135478+0.1823508j ,\n",
       "        -0.30135478-0.1823508j ],\n",
       "       [ 0.90642053+0.j        , -0.60893512+0.06529311j,\n",
       "        -0.60893512-0.06529311j]])"
      ]
     },
     "execution_count": 16,
     "metadata": {},
     "output_type": "execute_result"
    }
   ],
   "source": [
    "eig_vects"
   ]
  },
  {
   "cell_type": "markdown",
   "id": "bb55695b",
   "metadata": {},
   "source": [
    "The linalg.eigh(N) returns both the eigenvalues and the eigenvectors of a complex Hermitian matrix or a real symmetric matrix N."
   ]
  },
  {
   "cell_type": "code",
   "execution_count": 17,
   "id": "3931ddf8",
   "metadata": {},
   "outputs": [],
   "source": [
    "eigh_vals, eigh_vectors = np.linalg.eigh(N)"
   ]
  },
  {
   "cell_type": "code",
   "execution_count": 18,
   "id": "693c0848",
   "metadata": {},
   "outputs": [
    {
     "data": {
      "text/plain": [
       "array([-6.45217996,  0.76821264,  9.68396732])"
      ]
     },
     "execution_count": 18,
     "metadata": {},
     "output_type": "execute_result"
    }
   ],
   "source": [
    "eigh_vals "
   ]
  },
  {
   "cell_type": "code",
   "execution_count": 19,
   "id": "5de14f4e",
   "metadata": {},
   "outputs": [
    {
     "data": {
      "text/plain": [
       "array([[-0.30070223,  0.83557875, -0.45976767],\n",
       "       [ 0.8508363 ,  0.01723628, -0.52514808],\n",
       "       [ 0.4308779 ,  0.54910022,  0.71612372]])"
      ]
     },
     "execution_count": 19,
     "metadata": {},
     "output_type": "execute_result"
    }
   ],
   "source": [
    "eigh_vectors"
   ]
  },
  {
   "cell_type": "markdown",
   "id": "9e8469b2",
   "metadata": {},
   "source": [
    "The linalg.det(N) returns the determinant of the matrix N."
   ]
  },
  {
   "cell_type": "code",
   "execution_count": 20,
   "id": "50a8fc60",
   "metadata": {},
   "outputs": [
    {
     "data": {
      "text/plain": [
       "23.999999999999993"
      ]
     },
     "execution_count": 20,
     "metadata": {},
     "output_type": "execute_result"
    }
   ],
   "source": [
    "np.linalg.det(N)"
   ]
  },
  {
   "cell_type": "markdown",
   "id": "8fa82f54",
   "metadata": {},
   "source": [
    "The linalg.inv(N) returns the invers of the matrix N."
   ]
  },
  {
   "cell_type": "code",
   "execution_count": 21,
   "id": "31b4fc2d",
   "metadata": {},
   "outputs": [
    {
     "data": {
      "text/plain": [
       "array([[-1.33333333,  1.16666667,  0.5       ],\n",
       "       [-0.33333333,  0.16666667, -0.        ],\n",
       "       [-1.16666667,  0.83333333,  0.5       ]])"
      ]
     },
     "execution_count": 21,
     "metadata": {},
     "output_type": "execute_result"
    }
   ],
   "source": [
    "np.linalg.inv(N)"
   ]
  }
 ],
 "metadata": {
  "kernelspec": {
   "display_name": "Python 3 (ipykernel)",
   "language": "python",
   "name": "python3"
  },
  "language_info": {
   "codemirror_mode": {
    "name": "ipython",
    "version": 3
   },
   "file_extension": ".py",
   "mimetype": "text/x-python",
   "name": "python",
   "nbconvert_exporter": "python",
   "pygments_lexer": "ipython3",
   "version": "3.11.5"
  }
 },
 "nbformat": 4,
 "nbformat_minor": 5
}
